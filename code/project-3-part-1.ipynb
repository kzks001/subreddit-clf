{
 "cells": [
  {
   "cell_type": "markdown",
   "id": "6e475841-7cce-444c-9665-35680d5f73f4",
   "metadata": {},
   "source": [
    "<img src=\"http://imgur.com/1ZcRyrc.png\" style=\"float: left; margin: 20px; height: 55px\">\n",
    "\n",
    "# Project 3: Classifying Reddit Posts from Trump and Biden Subreddits using NLP Classification"
   ]
  },
  {
   "cell_type": "markdown",
   "id": "88168a3c-856c-47e1-b57f-12e95bd77469",
   "metadata": {},
   "source": [
    "---\n",
    "# Part 1: Web scrapping\n",
    "---"
   ]
  },
  {
   "cell_type": "markdown",
   "id": "bb97c61f-b6a0-4016-a2d7-d461a3a4a5cc",
   "metadata": {},
   "source": [
    "### Overview of this notebook\n",
    "\n",
    "In this part, we will scrape data from reddit and clean up the data a little, to obtain a usable csv file for part 2.\\\n",
    "In particular, we will replace all the '[removed]' strings with the empty string '' and drop all the '[deleted]' entries.\\\n",
    "Now, if the entries in 'selftext' were the empty string, they are not going to be very useful for predicting anything. We decided to concatenate the 'titles' and 'selftext' features by noting that some titles are informative/self-explanatory enough.\\\n",
    "We decided on a character limit of 80 based on [this](https://awc-hse.medium.com/a-title-that-works-characteristics-and-tips-7fe33c5aef67) article.\\\n",
    "That would conclude this notebook."
   ]
  },
  {
   "cell_type": "markdown",
   "id": "7db4e120-a047-46b2-9c0e-eeee49c3a50c",
   "metadata": {},
   "source": [
    "### Contents:\n",
    "- [Background](#Background)\n",
    "- [Scrapping](#Scrapping)"
   ]
  },
  {
   "cell_type": "markdown",
   "id": "4271bcbd-e22f-40a8-bdf9-9c023902a105",
   "metadata": {},
   "source": [
    "## Background"
   ]
  },
  {
   "cell_type": "markdown",
   "id": "878e2c7d-c25a-4fc9-b38c-229c0ff74845",
   "metadata": {},
   "source": [
    "The United States is preparing for an upcoming presidential election, which will determine who will be the next leader of the country. The current Trump administration, led by President Trump, is in the process of hiring new employees. The selection process is based on interviews and projects, which are used to evaluate the candidates' skills and abilities.\n",
    "\n",
    "As part of the hiring process, we have been tasked with completing a project that involves using natural language processing (NLP) classification to determine if a given post is from the Trump or Biden subreddit. This project will require us to analyze and categorize large amounts of text data from both subreddits, using NLP techniques to identify patterns and features that distinguish between the two."
   ]
  },
  {
   "cell_type": "markdown",
   "id": "e552c54a-bbf3-4e0a-aec3-dea413fd2715",
   "metadata": {},
   "source": [
    "### Data source"
   ]
  },
  {
   "cell_type": "markdown",
   "id": "be4f706d-bf77-40fb-ab8b-7bdb1e30ca9f",
   "metadata": {},
   "source": [
    "We will be scrapping data from the [r/trump/](https://www.reddit.com/r/trump/) and [r/JoeBiden/](https://www.reddit.com/r/JoeBiden/) subreddits."
   ]
  },
  {
   "cell_type": "markdown",
   "id": "cc5cce01-50e8-4559-aee6-3a4abb0748a5",
   "metadata": {},
   "source": [
    "### Problem Statement"
   ]
  },
  {
   "cell_type": "markdown",
   "id": "c3fc36b5-145b-4732-ab4b-f9c5083f72ab",
   "metadata": {},
   "source": [
    "The goal of this project is to use NLP classification techniques to accurately identify whether a given post is from the Trump or Biden subreddit. This task is important because it will help to shed light on the political preferences and attitudes of the users of these subreddits, which may be indicative of broader trends in American politics. Additionally, the project will help to evaluate our skills in NLP and machine learning."
   ]
  },
  {
   "cell_type": "markdown",
   "id": "703c244e-85b7-4a14-9426-70a0a3d3adc8",
   "metadata": {},
   "source": [
    "For our project, we will only be focusing on the metric accuracy. This is because the goals for project is simply to determine whether the post is classified correctly."
   ]
  },
  {
   "cell_type": "markdown",
   "id": "46b2fe4c-35a3-48ed-8927-951fb32d9f04",
   "metadata": {},
   "source": [
    "## Scrapping"
   ]
  },
  {
   "cell_type": "code",
   "execution_count": 1,
   "id": "5abd816d-a59c-4ad3-8f0a-271ff3ec3c3c",
   "metadata": {},
   "outputs": [],
   "source": [
    "import requests\n",
    "import time\n",
    "import random\n",
    "import pandas as pd"
   ]
  },
  {
   "cell_type": "code",
   "execution_count": 2,
   "id": "3ac7c08c-0749-40e4-9e51-67dc9156a947",
   "metadata": {},
   "outputs": [],
   "source": [
    "def delay_request(maximum = 10):\n",
    "    delay_time = random.randint(1, maximum)\n",
    "    time.sleep(delay_time)"
   ]
  },
  {
   "cell_type": "code",
   "execution_count": 3,
   "id": "241af67b-e696-480a-8493-686e59b49354",
   "metadata": {
    "tags": []
   },
   "outputs": [],
   "source": [
    "def scraping_worker(\n",
    "    url = 'https://api.pushshift.io/reddit/search/submission',\n",
    "    subs = ['trump', 'joebiden'], \n",
    "    size = 100,\n",
    "    iterations = 18,\n",
    "): #sad face\n",
    "    \n",
    "    ls = []\n",
    "    for sub in subs: #subs is an argument.\n",
    "        params = {'subreddit': sub, 'size': size}\n",
    "        for i in range(iterations):\n",
    "            \n",
    "            #while loop will try to connect until success within current iteration.\n",
    "            connected = False\n",
    "            while connected == False:\n",
    "                res = requests.get(url, params)\n",
    "                if res.status_code != 200:\n",
    "                    print(f'Failed to connect, retrying..., status code: {res.status_code}')\n",
    "                    delay_request(3)\n",
    "                else:\n",
    "                    connected = True\n",
    "            \n",
    "            #will run these once connected, then move on to next iteration!\n",
    "            data = res.json()\n",
    "            posts = data['data'] #note that post is not changed, only added to other variables.\n",
    "            ls += posts #concat to ls.\n",
    "            params['before'] = posts[-1]['created_utc'] #update params.\n",
    "            delay_request()\n",
    "            print(f'For subreddit: {sub}, iteration: {i+1} completed!')\n",
    "  \n",
    "    return pd.DataFrame(ls)[['subreddit', 'selftext', 'title']]"
   ]
  },
  {
   "cell_type": "code",
   "execution_count": 4,
   "id": "beb3fb44-13b5-4acb-bb24-2379089ccc63",
   "metadata": {},
   "outputs": [
    {
     "name": "stdout",
     "output_type": "stream",
     "text": [
      "For subreddit: trump, iteration: 1 completed!\n",
      "For subreddit: trump, iteration: 2 completed!\n",
      "For subreddit: trump, iteration: 3 completed!\n",
      "For subreddit: trump, iteration: 4 completed!\n",
      "For subreddit: trump, iteration: 5 completed!\n",
      "For subreddit: trump, iteration: 6 completed!\n",
      "For subreddit: trump, iteration: 7 completed!\n",
      "For subreddit: trump, iteration: 8 completed!\n",
      "For subreddit: trump, iteration: 9 completed!\n",
      "For subreddit: trump, iteration: 10 completed!\n",
      "For subreddit: trump, iteration: 11 completed!\n",
      "For subreddit: trump, iteration: 12 completed!\n",
      "For subreddit: trump, iteration: 13 completed!\n",
      "For subreddit: trump, iteration: 14 completed!\n",
      "For subreddit: trump, iteration: 15 completed!\n",
      "For subreddit: trump, iteration: 16 completed!\n",
      "For subreddit: trump, iteration: 17 completed!\n",
      "For subreddit: trump, iteration: 18 completed!\n",
      "For subreddit: joebiden, iteration: 1 completed!\n",
      "For subreddit: joebiden, iteration: 2 completed!\n",
      "For subreddit: joebiden, iteration: 3 completed!\n",
      "For subreddit: joebiden, iteration: 4 completed!\n",
      "For subreddit: joebiden, iteration: 5 completed!\n",
      "For subreddit: joebiden, iteration: 6 completed!\n",
      "For subreddit: joebiden, iteration: 7 completed!\n",
      "For subreddit: joebiden, iteration: 8 completed!\n",
      "For subreddit: joebiden, iteration: 9 completed!\n",
      "For subreddit: joebiden, iteration: 10 completed!\n",
      "For subreddit: joebiden, iteration: 11 completed!\n",
      "For subreddit: joebiden, iteration: 12 completed!\n",
      "For subreddit: joebiden, iteration: 13 completed!\n",
      "For subreddit: joebiden, iteration: 14 completed!\n",
      "For subreddit: joebiden, iteration: 15 completed!\n",
      "For subreddit: joebiden, iteration: 16 completed!\n",
      "For subreddit: joebiden, iteration: 17 completed!\n",
      "For subreddit: joebiden, iteration: 18 completed!\n",
      "Wall time: 5min 1s\n"
     ]
    }
   ],
   "source": [
    "%%time\n",
    "df = scraping_worker()"
   ]
  },
  {
   "cell_type": "code",
   "execution_count": 5,
   "id": "df894a0c-7f73-4cc2-82b7-13450eeb5810",
   "metadata": {},
   "outputs": [
    {
     "data": {
      "text/html": [
       "<div>\n",
       "<style scoped>\n",
       "    .dataframe tbody tr th:only-of-type {\n",
       "        vertical-align: middle;\n",
       "    }\n",
       "\n",
       "    .dataframe tbody tr th {\n",
       "        vertical-align: top;\n",
       "    }\n",
       "\n",
       "    .dataframe thead th {\n",
       "        text-align: right;\n",
       "    }\n",
       "</style>\n",
       "<table border=\"1\" class=\"dataframe\">\n",
       "  <thead>\n",
       "    <tr style=\"text-align: right;\">\n",
       "      <th></th>\n",
       "      <th>subreddit</th>\n",
       "      <th>selftext</th>\n",
       "      <th>title</th>\n",
       "    </tr>\n",
       "  </thead>\n",
       "  <tbody>\n",
       "    <tr>\n",
       "      <th>0</th>\n",
       "      <td>trump</td>\n",
       "      <td></td>\n",
       "      <td>EPIC! Project Omega Sends Letter to Georgia’s ...</td>\n",
       "    </tr>\n",
       "    <tr>\n",
       "      <th>1</th>\n",
       "      <td>trump</td>\n",
       "      <td></td>\n",
       "      <td>BREAKING: House Oversight Committee Shows Bide...</td>\n",
       "    </tr>\n",
       "    <tr>\n",
       "      <th>2</th>\n",
       "      <td>trump</td>\n",
       "      <td>[removed]</td>\n",
       "      <td>'The United States of America' is 24 letters. ...</td>\n",
       "    </tr>\n",
       "    <tr>\n",
       "      <th>3</th>\n",
       "      <td>trump</td>\n",
       "      <td>[removed]</td>\n",
       "      <td>'The United States of America' is 24 letters. ...</td>\n",
       "    </tr>\n",
       "    <tr>\n",
       "      <th>4</th>\n",
       "      <td>trump</td>\n",
       "      <td></td>\n",
       "      <td>Peacefully, Queen gena de' Medici Etherton Doc...</td>\n",
       "    </tr>\n",
       "  </tbody>\n",
       "</table>\n",
       "</div>"
      ],
      "text/plain": [
       "  subreddit   selftext                                              title\n",
       "0     trump             EPIC! Project Omega Sends Letter to Georgia’s ...\n",
       "1     trump             BREAKING: House Oversight Committee Shows Bide...\n",
       "2     trump  [removed]  'The United States of America' is 24 letters. ...\n",
       "3     trump  [removed]  'The United States of America' is 24 letters. ...\n",
       "4     trump             Peacefully, Queen gena de' Medici Etherton Doc..."
      ]
     },
     "execution_count": 5,
     "metadata": {},
     "output_type": "execute_result"
    }
   ],
   "source": [
    "df.head()"
   ]
  },
  {
   "cell_type": "markdown",
   "id": "981559fe-a124-43bc-bcad-60dd8ebcf3fb",
   "metadata": {},
   "source": [
    "Next cell shows we have `''`, `'[removed]'` and `'[deleted]'` in `selftext`. We will be replacing the `'[removed]'` strings with `''` and dropping the `'[deleted]'` rows."
   ]
  },
  {
   "cell_type": "code",
   "execution_count": 6,
   "id": "5d5d5fa9-3275-450f-b306-e02763550075",
   "metadata": {
    "tags": []
   },
   "outputs": [
    {
     "data": {
      "text/plain": [
       "                                                                                                                                                                                                                                                                                                                                                                                                                                                                                                                                                                                                                                                                                                                                                                                                                                                                                                                                                                                                                                                                                                                                                                                                                                                                                                                                                                                                                                                                                                                                                                                                                                                                                                                                                                                                                                                                                                                                                                                                                                                                                                                                                                                                                                                          2840\n",
       "[removed]                                                                                                                                                                                                                                                                                                                                                                                                                                                                                                                                                                                                                                                                                                                                                                                                                                                                                                                                                                                                                                                                                                                                                                                                                                                                                                                                                                                                                                                                                                                                                                                                                                                                                                                                                                                                                                                                                                                                                                                                                                                                                                                                                                                                                                                  593\n",
       "[deleted]                                                                                                                                                                                                                                                                                                                                                                                                                                                                                                                                                                                                                                                                                                                                                                                                                                                                                                                                                                                                                                                                                                                                                                                                                                                                                                                                                                                                                                                                                                                                                                                                                                                                                                                                                                                                                                                                                                                                                                                                                                                                                                                                                                                                                                                   19\n",
       "Hi, I'm just quite curious how Nevada is looking. The MSNBC voting chart shows an even split with men and women, Dems with 1 point more so far. Most states seem to be skewed further towards women and Dems than this. However there is a huge percentage of unaffiliated votes, and I've seen Nevada be incorrectly doom predicted for 10 years now. So what's up with that? Has Nevada been complacent compared to somewhere like GA with much more encouraging numbers?                                                                                                                                                                                                                                                                                                                                                                                                                                                                                                                                                                                                                                                                                                                                                                                                                                                                                                                                                                                                                                                                                                                                                                                                                                                                                                                                                                                                                                                                                                                                                                                                                                                                                                                                                                                  1\n",
       "Turns out, on the government website where you write to the president.  you cannot even mention that term in the submission, or the website will default in error. \\n\\nBut go Joe! I hope this year will be the year of change!                                                                                                                                                                                                                                                                                                                                                                                                                                                                                                                                                                                                                                                                                                                                                                                                                                                                                                                                                                                                                                                                                                                                                                                                                                                                                                                                                                                                                                                                                                                                                                                                                                                                                                                                                                                                                                                                                                                                                                                                                              1\n",
       "                                                                                                                                                                                                                                                                                                                                                                                                                                                                                                                                                                                                                                                                                                                                                                                                                                                                                                                                                                                                                                                                                                                                                                                                                                                                                                                                                                                                                                                                                                                                                                                                                                                                                                                                                                                                                                                                                                                                                                                                                                                                                                                                                                                                                                                          ... \n",
       "[https://www.washingtonexaminer.com/opinion/fbi-confirms-there-was-no-insurrection-on-january-6](https://www.washingtonexaminer.com/opinion/fbi-confirms-there-was-no-insurrection-on-january-6)\\n\\n&amp;#x200B;\\n\\n \\n\\nThe [Cambridge Dictionary](https://dictionary.cambridge.org/us/dictionary/english/insurrection) defines “insurrection” as: “an organized attempt by a group of people to defeat their government and take control of their country, usually by violence”\\n\\nBy that definition, there was no “insurrection” at the United States Capitol on Jan. 6, according to the FBI. *Reuters* [reports](https://www.reuters.com/world/us/exclusive-fbi-finds-scant-evidence-us-capitol-attack-was-coordinated-sources-2021-08-20/):\\n\\nThe FBI has found scant evidence that[ the Jan. 6 attack](https://www.youtube.com/watch?v=vunLwSUTf2g) on the U.S. Capitol was the result of an organized plot to overturn the presidential election result, according to four current and former law enforcement officials.\\n\\n\"Ninety to ninety-five percent of these are one-off cases,\" said a former senior law enforcement official with knowledge of the investigation. \"Then you have five percent, maybe, of these militia groups that were more closely organized. But there was no grand scheme with Roger Stone and Alex Jones and all of these people to storm the Capitol and take hostages.\" \\n\\n \\n\\nThis report is a devastating blow to President Joe Biden and Democrats, who have attempted to make the existence of an “insurrection” on Jan. 6 a key issue in the 2022 midterm elections. *Reuters* does note that some “cells of protesters,” including members of the Oath Keepers and Proud Boys, did coordinate to “break into the Capitol,” but the FBI found “no evidence that the groups had serious plans about what to do if they made it inside.”\\n\\nNone of this excuses the violent riot that happened on Jan. 6. The FBI has arrested 570 rioters and each and every one of them should be prosecuted to the full extent of the law.\\n\\nBut that is what the event was: a riot, just like so many other riots. Trying to politicize it and turn it into something it wasn't won’t make the Capitol any safer.       1\n",
       "I think Trump didn't understand Christianity until recently. He just knew a corrupted form that most of our elites claim to be. \\n\\nLuke 6:27-28 But to you who are willing to listen, I say, love your  enemies! Do good to those who hate you. Bless those who curse you. Pray  for those who hurt you.                                                                                                                                                                                                                                                                                                                                                                                                                                                                                                                                                                                                                                                                                                                                                                                                                                                                                                                                                                                                                                                                                                                                                                                                                                                                                                                                                                                                                                                                                                                                                                                                                                                                                                                                                                                                                                                                                                                                                    1\n",
       "[https://youtube.com/playlist?list=PLaJ-h-TLXheQ9CIPdqQZ-9lghVFlWuYmq](https://youtube.com/playlist?list=PLaJ-h-TLXheQ9CIPdqQZ-9lghVFlWuYmq)                                                                                                                                                                                                                                                                                                                                                                                                                                                                                                                                                                                                                                                                                                                                                                                                                                                                                                                                                                                                                                                                                                                                                                                                                                                                                                                                                                                                                                                                                                                                                                                                                                                                                                                                                                                                                                                                                                                                                                                                                                                                                                                 1\n",
       "trump has announced that he will completely ban transgender affirming care- meaning a huge spike in suicides, mainly teens and young adults. this isn’t “patriotic”, this isn’t “owning the libs”. this is genocide. trump is a disgusting rapist and racist, and i cannot believe how anyone could supposed him. do you people under how many will die under his control? i’m talking thousands of suicides, thousands of anti-trans hate crimes. you’re all sick in the head.                                                                                                                                                                                                                                                                                                                                                                                                                                                                                                                                                                                                                                                                                                                                                                                                                                                                                                                                                                                                                                                                                                                                                                                                                                                                                                                                                                                                                                                                                                                                                                                                                                                                                                                                                                              1\n",
       "VIDEO - [https://youtu.be/O0ZphkYKWSo](https://youtu.be/O0ZphkYKWSo)\\n\\nhttps://preview.redd.it/9lw48ucudzx91.jpg?width=640&amp;format=pjpg&amp;auto=webp&amp;s=878e56cfd7692ec1ff85db8b42a6926c6a1e7978\\n\\nFalse information and conspiracy theories began to circulate online quickly in the days after the break-in and attack on Paul Pelosi at his and Speaker [Nancy Pelosi’s ](https://thehill.com/people/nancy-pelosi/)(D-Calif.) home in San Francisco on Friday, underscoring the hold such misinformation has on a part of the culture.                                                                                                                                                                                                                                                                                                                                                                                                                                                                                                                                                                                                                                                                                                                                                                                                                                                                                                                                                                                                                                                                                                                                                                                                                                                                                                                                                                                                                                                                                                                                                                                                                                                                                                           1\n",
       "Name: selftext, Length: 137, dtype: int64"
      ]
     },
     "execution_count": 6,
     "metadata": {},
     "output_type": "execute_result"
    }
   ],
   "source": [
    "df['selftext'].value_counts()"
   ]
  },
  {
   "cell_type": "code",
   "execution_count": 7,
   "id": "8ee705ec-d2eb-45d7-9c88-6096fa503b89",
   "metadata": {},
   "outputs": [],
   "source": [
    "df['selftext'] = df['selftext'].replace('[removed]', '')"
   ]
  },
  {
   "cell_type": "code",
   "execution_count": 8,
   "id": "b08f76f4-7301-4569-a604-89d786315e65",
   "metadata": {},
   "outputs": [],
   "source": [
    "df = df.drop(df[df['selftext'] == '[deleted]'].index).drop_duplicates()"
   ]
  },
  {
   "cell_type": "markdown",
   "id": "deab770c-ff9d-4770-8461-56ea65b6939f",
   "metadata": {},
   "source": [
    "Next we prepare the two text columns for merging, by identifying the columns relevant to us.\\\n",
    "We then merge the two columns."
   ]
  },
  {
   "cell_type": "code",
   "execution_count": 9,
   "id": "c0a9b42f-1efd-4c46-ba9d-b0106f51c0c9",
   "metadata": {},
   "outputs": [],
   "source": [
    "df = df[(df['selftext'] != '') | (df['title'].map(lambda x: len(x)) > 60)]"
   ]
  },
  {
   "cell_type": "code",
   "execution_count": 10,
   "id": "e60ed70f-d054-4b40-a394-5fcfc97420c1",
   "metadata": {
    "tags": []
   },
   "outputs": [],
   "source": [
    "df['combined'] = df['selftext'] + ' ' + df['title']"
   ]
  },
  {
   "cell_type": "code",
   "execution_count": 11,
   "id": "e1c0e966-f9eb-4856-a5a8-8ca88a3dd6fd",
   "metadata": {},
   "outputs": [
    {
     "data": {
      "text/plain": [
       "trump       0.558313\n",
       "JoeBiden    0.441687\n",
       "Name: subreddit, dtype: float64"
      ]
     },
     "execution_count": 11,
     "metadata": {},
     "output_type": "execute_result"
    }
   ],
   "source": [
    "df['subreddit'].value_counts(normalize=True)"
   ]
  },
  {
   "cell_type": "code",
   "execution_count": 12,
   "id": "1ceb7997-0c32-4957-8476-8947982a91e3",
   "metadata": {},
   "outputs": [],
   "source": [
    "df = df.reset_index(drop=True)"
   ]
  },
  {
   "cell_type": "code",
   "execution_count": 13,
   "id": "4cc1eeea-f122-43dc-a921-2582bf5628c4",
   "metadata": {},
   "outputs": [
    {
     "data": {
      "text/html": [
       "<div>\n",
       "<style scoped>\n",
       "    .dataframe tbody tr th:only-of-type {\n",
       "        vertical-align: middle;\n",
       "    }\n",
       "\n",
       "    .dataframe tbody tr th {\n",
       "        vertical-align: top;\n",
       "    }\n",
       "\n",
       "    .dataframe thead th {\n",
       "        text-align: right;\n",
       "    }\n",
       "</style>\n",
       "<table border=\"1\" class=\"dataframe\">\n",
       "  <thead>\n",
       "    <tr style=\"text-align: right;\">\n",
       "      <th></th>\n",
       "      <th>subreddit</th>\n",
       "      <th>selftext</th>\n",
       "      <th>title</th>\n",
       "      <th>combined</th>\n",
       "    </tr>\n",
       "  </thead>\n",
       "  <tbody>\n",
       "    <tr>\n",
       "      <th>0</th>\n",
       "      <td>trump</td>\n",
       "      <td></td>\n",
       "      <td>EPIC! Project Omega Sends Letter to Georgia’s ...</td>\n",
       "      <td>EPIC! Project Omega Sends Letter to Georgia’s...</td>\n",
       "    </tr>\n",
       "    <tr>\n",
       "      <th>1</th>\n",
       "      <td>trump</td>\n",
       "      <td></td>\n",
       "      <td>BREAKING: House Oversight Committee Shows Bide...</td>\n",
       "      <td>BREAKING: House Oversight Committee Shows Bid...</td>\n",
       "    </tr>\n",
       "    <tr>\n",
       "      <th>2</th>\n",
       "      <td>trump</td>\n",
       "      <td></td>\n",
       "      <td>'The United States of America' is 24 letters. ...</td>\n",
       "      <td>'The United States of America' is 24 letters....</td>\n",
       "    </tr>\n",
       "    <tr>\n",
       "      <th>3</th>\n",
       "      <td>trump</td>\n",
       "      <td></td>\n",
       "      <td>'The United States of America' is 24 letters. ...</td>\n",
       "      <td>'The United States of America' is 24 letters....</td>\n",
       "    </tr>\n",
       "    <tr>\n",
       "      <th>4</th>\n",
       "      <td>trump</td>\n",
       "      <td></td>\n",
       "      <td>Peacefully, Queen gena de' Medici Etherton Doc...</td>\n",
       "      <td>Peacefully, Queen gena de' Medici Etherton Do...</td>\n",
       "    </tr>\n",
       "  </tbody>\n",
       "</table>\n",
       "</div>"
      ],
      "text/plain": [
       "  subreddit selftext                                              title  \\\n",
       "0     trump           EPIC! Project Omega Sends Letter to Georgia’s ...   \n",
       "1     trump           BREAKING: House Oversight Committee Shows Bide...   \n",
       "2     trump           'The United States of America' is 24 letters. ...   \n",
       "3     trump           'The United States of America' is 24 letters. ...   \n",
       "4     trump           Peacefully, Queen gena de' Medici Etherton Doc...   \n",
       "\n",
       "                                            combined  \n",
       "0   EPIC! Project Omega Sends Letter to Georgia’s...  \n",
       "1   BREAKING: House Oversight Committee Shows Bid...  \n",
       "2   'The United States of America' is 24 letters....  \n",
       "3   'The United States of America' is 24 letters....  \n",
       "4   Peacefully, Queen gena de' Medici Etherton Do...  "
      ]
     },
     "execution_count": 13,
     "metadata": {},
     "output_type": "execute_result"
    }
   ],
   "source": [
    "df.head()"
   ]
  },
  {
   "cell_type": "code",
   "execution_count": 14,
   "id": "39538298-1ad4-4870-99a8-7e38c43defa1",
   "metadata": {},
   "outputs": [
    {
     "data": {
      "text/plain": [
       "subreddit    0\n",
       "selftext     0\n",
       "title        0\n",
       "combined     0\n",
       "dtype: int64"
      ]
     },
     "execution_count": 14,
     "metadata": {},
     "output_type": "execute_result"
    }
   ],
   "source": [
    "df.isnull().sum()"
   ]
  },
  {
   "cell_type": "code",
   "execution_count": 15,
   "id": "8754274b-95c9-40a3-b164-45116d50ee61",
   "metadata": {},
   "outputs": [
    {
     "data": {
      "text/plain": [
       "(2015, 4)"
      ]
     },
     "execution_count": 15,
     "metadata": {},
     "output_type": "execute_result"
    }
   ],
   "source": [
    "df.shape"
   ]
  },
  {
   "cell_type": "code",
   "execution_count": 16,
   "id": "265de719-14b7-455e-8642-83da6fc90c0c",
   "metadata": {},
   "outputs": [],
   "source": [
    "# df.to_csv('../data/trump-biden-reddit-scape.csv', index = False)"
   ]
  }
 ],
 "metadata": {
  "kernelspec": {
   "display_name": "Python 3 (ipykernel)",
   "language": "python",
   "name": "python3"
  },
  "language_info": {
   "codemirror_mode": {
    "name": "ipython",
    "version": 3
   },
   "file_extension": ".py",
   "mimetype": "text/x-python",
   "name": "python",
   "nbconvert_exporter": "python",
   "pygments_lexer": "ipython3",
   "version": "3.9.13"
  }
 },
 "nbformat": 4,
 "nbformat_minor": 5
}
